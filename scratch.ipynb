{
 "cells": [
  {
   "cell_type": "code",
   "execution_count": 2,
   "metadata": {
    "collapsed": false
   },
   "outputs": [
    {
     "data": {
      "text/plain": [
       "array([3, 2, 1])"
      ]
     },
     "execution_count": 2,
     "metadata": {},
     "output_type": "execute_result"
    }
   ],
   "source": [
    "import numpy as np\n",
    "v = np.array([[1, 2, 3], [1, 2, 3]])\n",
    "v[0, ::-1]"
   ]
  },
  {
   "cell_type": "code",
   "execution_count": null,
   "metadata": {},
   "outputs": [
    {
     "data": {
      "text/plain": [
       "array([[0, 0, 0, 0, 0],\n       [1, 1, 1, 1, 1],\n       [2, 2, 2, 2, 2],\n       [3, 3, 3, 3, 3],\n       [4, 4, 4, 4, 4]])"
      ]
     },
     "execution_count": 29,
     "metadata": {},
     "output_type": "execute_result"
    }
   ],
   "source": [
    "x, y = np.mgrid[0:5, 0:5]\n",
    "x"
   ]
  },
  {
   "cell_type": "code",
   "execution_count": null,
   "metadata": {},
   "outputs": [
    {
     "data": {
      "text/plain": [
       "array([], shape=(0, 1), dtype=float64)"
      ]
     },
     "execution_count": 13,
     "metadata": {},
     "output_type": "execute_result"
    }
   ],
   "source": [
    "np.random.rand(0, 1)"
   ]
  },
  {
   "cell_type": "code",
   "execution_count": 14,
   "metadata": {},
   "outputs": [
    {
     "data": {
      "text/plain": [
       "array([[[0, 0, 0, 0, 0],\n        [0, 0, 0, 0, 0],\n        [0, 0, 0, 0, 0],\n        [0, 0, 0, 0, 0],\n        [0, 0, 0, 0, 0]],\n\n       [[0, 0, 0, 0, 0],\n        [0, 0, 0, 0, 0],\n        [0, 0, 0, 0, 0],\n        [0, 0, 0, 0, 0],\n        [0, 0, 0, 0, 0]]])"
      ]
     },
     "execution_count": 14,
     "metadata": {},
     "output_type": "execute_result"
    }
   ],
   "source": [
    "np.zeros_like(x)"
   ]
  },
  {
   "cell_type": "code",
   "execution_count": 32,
   "metadata": {},
   "outputs": [
    {
     "data": {
      "text/plain": [
       "array([ True,  True,  True,  True,  True], dtype=bool)"
      ]
     },
     "execution_count": 32,
     "metadata": {},
     "output_type": "execute_result"
    }
   ],
   "source": [
    "z = np.arange(0, 5)\n",
    "z\n",
    "np.dot(x, z).T == np.dot(x, z)"
   ]
  },
  {
   "cell_type": "code",
   "execution_count": 39,
   "metadata": {},
   "outputs": [
    {
     "data": {
      "text/plain": [
       "0.0"
      ]
     },
     "execution_count": 39,
     "metadata": {},
     "output_type": "execute_result"
    }
   ],
   "source": [
    "m = np.matrix(y)\n",
    "np.linalg.det(m)"
   ]
  },
  {
   "cell_type": "code",
   "execution_count": 50,
   "metadata": {},
   "outputs": [],
   "source": [
    "from scipy.interpolate import *\n",
    "from scipy import sin"
   ]
  },
  {
   "cell_type": "code",
   "execution_count": null,
   "metadata": {},
   "outputs": [],
   "source": [
    "def f(x):\n",
    "    return sin(x)"
   ]
  },
  {
   "cell_type": "code",
   "execution_count": 55,
   "metadata": {},
   "outputs": [
    {
     "name": "stdout",
     "output_type": "stream",
     "text": [
      "<scipy.interpolate.interpolate.interp1d object at 0x000002260F4F5AE8> [ 0.17611989  0.24805812  0.31999634  0.39193456  0.46387279  0.53581101\n  0.60774923  0.67968746  0.75162568  0.82356391  0.89550213  0.96744035\n  0.95263329  0.93782623  0.92301917  0.90821211  0.89340505  0.87859799\n  0.86379093  0.84898387  0.8341768   0.81936974  0.80456268  0.73900245\n  0.67344222  0.60788199  0.54232176  0.47676153  0.4112013   0.34564107\n  0.28008084  0.21452061  0.14896038  0.08340015  0.01403853 -0.05532309\n -0.12468471 -0.19404633 -0.26340795 -0.33276957 -0.40213119 -0.47149282\n -0.54085444 -0.61021606 -0.67957768 -0.72284281 -0.76610793 -0.80937306\n -0.85263818 -0.89590331 -0.93916844 -0.98243356 -1.02569869 -1.06896381\n -1.11222894 -1.15549407 -1.09163855 -1.02778304 -0.96392752 -0.90007201\n -0.8362165  -0.77236098 -0.70850547 -0.64464996 -0.58079444 -0.51693893\n -0.45308342 -0.36170929 -0.27033516 -0.17896103 -0.08758691  0.00378722\n  0.09516135  0.18653547  0.2779096   0.36928373  0.46065785  0.55203198\n  0.59086155  0.62969112  0.66852068  0.70735025  0.74617982  0.78500938\n  0.82383895  0.86266852  0.90149808  0.94032765  0.97915722  0.93053686\n  0.8819165   0.83329614  0.78467578  0.73605543  0.68743507  0.63881471\n  0.59019435  0.54157399  0.49295364  0.44433328]\n"
     ]
    }
   ],
   "source": [
    "n = np.arange(0, 10)  \n",
    "x = np.linspace(0, 9, 100)\n",
    "\n",
    "y_meas = f(n) + 0.1 * np.random.randn(len(n)) # simulate measurement with noise\n",
    "y_real = f(x)\n",
    "# print(y_meas)\n",
    "\n",
    "linear_interpolation = interp1d(n, y_meas)\n",
    "y_interp1 = linear_interpolation(x)\n",
    "print(linear_interpolation, y_interp1)\n",
    "\n",
    "cubic_interpolation = interp1d(n, y_meas, kind='cubic')\n",
    "y_interp2 = cubic_interpolation(x)"
   ]
  },
  {
   "cell_type": "code",
   "execution_count": 1,
   "metadata": {},
   "outputs": [
    {
     "name": "stdout",
     "output_type": "stream",
     "text": [
      "shit\n"
     ]
    }
   ],
   "source": [
    "print(\"shit\")"
   ]
  },
  {
   "cell_type": "heading",
   "metadata": {},
   "level": 3,
   "source": [
    "### 井身温度分布"
   ]
  },
  {
   "cell_type": "code",
   "execution_count": 13,
   "metadata": {},
   "outputs": [
    {
     "data": {
      "text/latex": [
       "$$Tr - Z m + \\left(T_{0} - Tr\\right) e^{- \\frac{LR Z}{Cp W}} + \\frac{1}{LR} \\left(1 - e^{- \\frac{LR Z}{Cp W}}\\right) \\left(m + ∅ - \\frac{g}{Cp}\\right)$$"
      ],
      "text/plain": [
       "                               ⎛     -LR⋅Z ⎞             \n                               ⎜     ──────⎟             \n                      -LR⋅Z    ⎜      Cp⋅W ⎟ ⎛        g ⎞\n                      ──────   ⎝1 - ℯ      ⎠⋅⎜m + ∅ - ──⎟\n                       Cp⋅W                  ⎝        Cp⎠\nTr - Z⋅m + (T₀ - Tr)⋅ℯ       + ──────────────────────────\n                                           LR            "
      ]
     },
     "metadata": {},
     "output_type": "display_data"
    }
   ],
   "source": [
    "from sympy import *\n",
    "\n",
    "init_printing()\n",
    "\n",
    "\n",
    "Z = Symbol('Z')  # depth starting from bottom\n",
    "T0 = Symbol('T0')  # 井底处流体温度 \n",
    "Tr = Symbol('Tr')  # 油层中部温度 摄氏度\n",
    "density_of_oil = Symbol('ρ')  # kg/m3\n",
    "Cp = Symbol('Cp')  # 定压比热容 J/(kg*K)\n",
    "W = Symbol('W')  # 质量流量 kg/s\n",
    "LR = Symbol('LR')  # 半稳态法得到的计算参数\n",
    "m = Symbol('m')  # 地温梯度\n",
    "qv = Symbol('qv')  # 单位长度流体内热源强度 W/m\n",
    "g = Symbol('g')  # 重力加速度 m/s^2\n",
    "fi = Symbol('∅')  # 包含了动能项和焦耳-汤姆逊系数（J--T）的计算参数\n",
    "\n",
    "\n",
    "power_of_exp = -LR / (W * Cp) * Z\n",
    "Tz = (T0 - Tr) * exp(power_of_exp) \\\n",
    "     + (1 - exp(power_of_exp)) * (m - g / Cp + fi) / LR \\\n",
    "     + Tr - m * Z\n",
    "\n",
    "Tz"
   ]
  },
  {
   "cell_type": "code",
   "execution_count": 11,
   "metadata": {
    "collapsed": true
   },
   "outputs": [
    {
     "data": {
      "text/latex": [
       "$$\\frac{Cp W}{2 \\pi Ke Ufe rti} \\left(1 - e^{- \\frac{2 \\pi Ke Ufe Z rti}{Cp W \\left(Ke + TD Ufe rti\\right)}}\\right) \\left(Ke + TD Ufe rti\\right) \\left(m + ∅ - \\frac{g}{Cp}\\right) + Tr - Z m + \\left(T_{0} - Tr\\right) e^{- \\frac{2 \\pi Ke Ufe Z rti}{Cp W \\left(Ke + TD Ufe rti\\right)}}$$"
      ],
      "text/plain": [
       "     ⎛       -2⋅π⋅Ke⋅Ufe⋅Z⋅rti   ⎞                                            \n     ⎜     ──────────────────────⎟                                            \n     ⎜     Cp⋅W⋅(Ke + TD⋅Ufe⋅rti)⎟                   ⎛        g ⎞             \nCp⋅W⋅⎝1 - ℯ                      ⎠⋅(Ke + TD⋅Ufe⋅rti)⋅⎜m + ∅ - ──⎟             \n                                                     ⎝        Cp⎠             \n───────────────────────────────────────────────────────────────── + Tr - Z⋅m +\n                          2⋅π⋅Ke⋅Ufe⋅rti                                      \n\n                                  \n                                  \n              -2⋅π⋅Ke⋅Ufe⋅Z⋅rti   \n            ──────────────────────\n            Cp⋅W⋅(Ke + TD⋅Ufe⋅rti)\n (T₀ - Tr)⋅ℯ                      \n                                  "
      ]
     },
     "metadata": {},
     "output_type": "display_data"
    }
   ],
   "source": [
    "from sympy import *\n",
    "\n",
    "\n",
    "class OilTemperature:\n",
    "    def __init__(self):\n",
    "        # 地层温度表达式\n",
    "        self.init_symbols_expr()\n",
    "\n",
    "        # 替换计算参数 LR\n",
    "        self.subs_symbol_LR()\n",
    "        \n",
    "        self.subs_symbol_Ufe()\n",
    "        self.subs_symbol_TD()\n",
    "\n",
    "    def init_symbols_expr(self):\n",
    "        # depth starting from bottom\n",
    "        self.Z = Symbol('Z')\n",
    "        # 井底处流体温度\n",
    "        self.T0 = Symbol('T0')\n",
    "        # 油层中部温度 摄氏度\n",
    "        self.Tr = Symbol('Tr')\n",
    "        # kg/m3\n",
    "        self.density_of_oil = Symbol('ρ')\n",
    "        # 定压比热容 J/(kg*K)\n",
    "        self.Cp = Symbol('Cp')\n",
    "        # 质量流量 kg/s\n",
    "        self.W = Symbol('W')\n",
    "        # 半稳态法得到的计算参数\n",
    "        self.LR = Symbol('LR')\n",
    "        # 地温梯度\n",
    "        self.m = Symbol('m')\n",
    "        # 单位长度流体内热源强度 W/m\n",
    "        self.qv = Symbol('qv')\n",
    "        # 重力加速度 m/s^2\n",
    "        self.g = Symbol('g')\n",
    "        # 包含了动能项和焦耳-汤姆逊系数（J--T）的计算参数\n",
    "        self.fi = Symbol('∅')\n",
    "        self.power_of_exp = -self.LR / (self.W * self.Cp) * self.Z\n",
    "\n",
    "        # Tz\n",
    "        self.expr = (self.T0 - self.Tr) * exp(self.power_of_exp) \\\n",
    "                    + (1 - exp(self.power_of_exp)) * (self.m - self.g / self.Cp + self.fi) * self.W * self.Cp / self.LR \\\n",
    "                    + self.Tr - self.m * self.Z\n",
    "\n",
    "    def subs_symbol_LR(self):\n",
    "        # 替换计算参数 LR\n",
    "\n",
    "        # 油管内径\n",
    "        self.rti = Symbol('rti')\n",
    "\n",
    "        # 导热系数\n",
    "        self.Ke = Symbol('Ke')\n",
    "\n",
    "        # 该微元段传热系数\n",
    "        self.Ufe = Symbol('Ufe')\n",
    "\n",
    "        # 无因此地层温度\n",
    "        self.TD = Symbol('TD')\n",
    "\n",
    "        # rti?\n",
    "        LR = 2 * pi * self.rti * self.Ufe * self.Ke / (self.Ke + self.rti * self.Ufe * self.TD)\n",
    "\n",
    "        self.expr = self.expr.subs(self.LR, LR)\n",
    "\n",
    "    def subs_symbol_Ufe(self):\n",
    "        # K 导热系数，下标 t-油管，a-环空，c-套管 cem-水泥环\n",
    "        # 油管内壁对流换热系数\n",
    "        self.h = Symbol('h')\n",
    "\n",
    "        self.rto = Symbol('rto')\n",
    "\n",
    "        self.Kt = Symbol('Kt')\n",
    "\n",
    "        self.Ka = Symbol('Ka')\n",
    "        self.rc1i = Symbol('rc1i')\n",
    "        self.Kc = Symbol('Kc')\n",
    "        self.rc1o = Symbol('rc1o')\n",
    "        self.rc2i = Symbol('rc2i')\n",
    "        self.rc2o = Symbol('rc2o')\n",
    "        self.rc3i = Symbol('rc3i')\n",
    "        self.rc3o = Symbol('rc3o')\n",
    "        self.Kcem = Symbol('Kcem')\n",
    "        self.rcem = Symbol('rcem')\n",
    "\n",
    "        Ufe = 1 / \\\n",
    "              (1 / self.h\n",
    "               + self.rti / self.Kt * ln(self.rto / self.rti)\n",
    "               + self.rti / self.Ka * ln(self.rc1i / self.rto)\n",
    "               + self.rti / self.Kc * ln(self.rc1o / self.rc1i)\n",
    "               + self.rti / self.Ka * ln(self.rc2i / self.rc1o)\n",
    "               + self.rti / self.Kc * ln(self.rc2o / self.rc2i)\n",
    "               + self.rti / self.Ka * ln(self.rc3i / self.rc2o)\n",
    "               + self.rti / self.Kc * ln(self.rc3o / self.rc3i)\n",
    "               + self.rti / self.Kcem * ln(self.rcem / self.rc3o)\n",
    "               )\n",
    "        self.expr.subs(self.Ufe, Ufe)\n",
    "\n",
    "    def subs_symbol_TD(self):\n",
    "        self.t = Symbol('t')\n",
    "\n",
    "        # 地层热扩散系数\n",
    "        self.ae = Symbol('ae')\n",
    "\n",
    "        # 井筒尺寸\n",
    "        self.rw = Symbol('rw')\n",
    "\n",
    "        td = self.t * self.ae / self.rw ** 2\n",
    "\n",
    "        TD = ln(exp(-0.2 * td) +\n",
    "                (1.5 - 0.3719 * exp(-td)) * sqrt(td))\n",
    "\n",
    "        self.expr.subs(self.TD, TD)\n",
    "        \n",
    "        \n",
    "        \n",
    "init_printing()\n",
    "oil_temp = OilTemperature()\n",
    "oil_temp.expr"
   ]
  },
  {
   "cell_type": "code",
   "execution_count": 18,
   "metadata": {},
   "outputs": [
    {
     "data": {
      "text/plain": [
       "array([ 10.        ,   4.60517019])"
      ]
     },
     "execution_count": 18,
     "metadata": {},
     "output_type": "execute_result"
    }
   ],
   "source": [
    "from sympy import *\n",
    "from sympy.abc import x\n",
    "import numpy\n",
    "expr = Piecewise((-10, x < 0), (ln(x), x >= 8), (10, True))\n",
    "# expr = x ** 2\n",
    "f = lambdify(x, expr, 'numpy')\n",
    "f([7, 100])"
   ]
  },
  {
   "cell_type": "code",
   "execution_count": 30,
   "metadata": {
    "collapsed": false
   },
   "outputs": [
    {
     "name": "stdout",
     "output_type": "stream",
     "text": [
      "[ 0  1  2  3  4  5  6  7  8  9 10 11 12 13 14 15 16 17 18 19 20 21 22 23 24\n 25 26 27 28 29 30 31 32 33 34 35 36 37 38 39 40 41 42 43 44 45 46 47 48 49\n 50 51 52 53 54 55 56 57 58 59 60 61 62 63 64 65 66 67 68 69 70 71 72 73 74\n 75 76 77 78 79 80 81 82 83 84 85 86 87 88 89 90 91 92 93 94 95 96 97 98 99]\n"
     ]
    },
    {
     "data": {
      "text/plain": [
       "array([ 10.,  10.,  10.,  10.,  10.,  10.,  10.,  10.,  10.,  10.,  10.,\n        10.,   5.,   5.,   5.,   5.,   5.,   5.,   5.,   5.,   5.,   5.,\n         5.,   5.,   5.,   5.,   5.,   5.,   5.,   5.,   5.,   5.,   5.,\n         5.,   5.,   5.,   5.,   5.,   5.,   5.,   5.,   5.,   5.,   5.,\n         5.,   5.,   5.,   5.,   5.,   5.,   5.,   5.,   5.,   5.,   5.,\n         5.,   5.,   5.,   5.,   5.,   5.,   5.,   5.,   5.,   5.,   5.,\n         5.,   5.,   5.,   5.,   5.,   5.,   5.,   5.,   5.,   5.,   5.,\n         5.,   5.,   5.,   5.,   5.,   5.,   5.,   5.,   5.,   5.,   5.,\n         5.,   5.,   5.,   5.,   5.,   5.,   5.,   5.,   5.,   5.,   5.,\n         5.])"
      ]
     },
     "execution_count": 30,
     "metadata": {},
     "output_type": "execute_result"
    }
   ],
   "source": [
    "from sympy import *\n",
    "from sympy.abc import x\n",
    "import numpy\n",
    "import operator\n",
    "left = 10\n",
    "right = 12\n",
    "expr = Piecewise((10, x < 12), (5, x > 10), (0, True))\n",
    "# expr = x ** 2\n",
    "f = lambdify(x, expr, 'numpy')\n",
    "r = numpy.arange(0, 100)\n",
    "print(r)\n",
    "f(r)"
   ]
  },
  {
   "cell_type": "code",
   "execution_count": 32,
   "metadata": {},
   "outputs": [
    {
     "data": {
      "text/plain": [
       "4"
      ]
     },
     "execution_count": 32,
     "metadata": {},
     "output_type": "execute_result"
    }
   ],
   "source": [
    "a = Symbol('a')\n",
    "b = Symbol('a')\n",
    "expr = a + b\n",
    "expr.subs(b, 2)"
   ]
  },
  {
   "cell_type": "code",
   "execution_count": null,
   "metadata": {},
   "outputs": [],
   "source": []
  }
 ],
 "metadata": {
  "kernelspec": {
   "display_name": "Python 2",
   "language": "python",
   "name": "python2"
  },
  "language_info": {
   "codemirror_mode": {
    "name": "ipython",
    "version": 2
   },
   "file_extension": ".py",
   "mimetype": "text/x-python",
   "name": "python",
   "nbconvert_exporter": "python",
   "pygments_lexer": "ipython2",
   "version": "2.7.6"
  }
 },
 "nbformat": 4,
 "nbformat_minor": 0
}
